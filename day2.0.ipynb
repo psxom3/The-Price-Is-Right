{
 "cells": [
  {
   "cell_type": "markdown",
   "id": "046fd8f8-ad14-4c7f-b759-fec52f5b5306",
   "metadata": {},
   "source": [
    "# The Price is Right\n",
    "\n",
    "Today we build a more complex solution for estimating prices of goods.\n",
    "\n",
    "1. This notebook: create a RAG database with our 400,000 training data\n",
    "2. Day 2.1 notebook: visualize in 2D\n",
    "3. Day 2.2 notebook: visualize in 3D\n",
    "4. Day 2.3 notebook: build and test a RAG pipeline with GPT-4o-mini\n",
    "5. Day 2.4 notebook: (a) bring back our Random Forest pricer (b) Create a Ensemble pricer that allows contributions from all the pricers\n",
    "\n",
    "Phew! That's a lot to get through in one day!\n",
    "\n",
    "## PLEASE NOTE:\n",
    "\n",
    "We already have a very powerful product estimator with our proprietary, fine-tuned LLM. Most people would be very satisfied with that! The main reason we're adding these extra steps is to deepen your expertise with RAG and with Agentic workflows.\n"
   ]
  },
  {
   "cell_type": "code",
   "execution_count": 1,
   "id": "a0975b7e-501f-4e08-9019-ec34d65edfc2",
   "metadata": {},
   "outputs": [
    {
     "name": "stdout",
     "output_type": "stream",
     "text": [
      "Requirement already satisfied: chromadb==0.5.0 in c:\\users\\omkar\\anaconda3\\envs\\llms\\lib\\site-packages (0.5.0)\n",
      "Requirement already satisfied: build>=1.0.3 in c:\\users\\omkar\\anaconda3\\envs\\llms\\lib\\site-packages (from chromadb==0.5.0) (1.2.2.post1)\n",
      "Requirement already satisfied: requests>=2.28 in c:\\users\\omkar\\anaconda3\\envs\\llms\\lib\\site-packages (from chromadb==0.5.0) (2.32.3)\n",
      "Requirement already satisfied: pydantic>=1.9 in c:\\users\\omkar\\anaconda3\\envs\\llms\\lib\\site-packages (from chromadb==0.5.0) (2.10.6)\n",
      "Requirement already satisfied: chroma-hnswlib==0.7.3 in c:\\users\\omkar\\anaconda3\\envs\\llms\\lib\\site-packages (from chromadb==0.5.0) (0.7.3)\n",
      "Requirement already satisfied: fastapi>=0.95.2 in c:\\users\\omkar\\anaconda3\\envs\\llms\\lib\\site-packages (from chromadb==0.5.0) (0.115.12)\n",
      "Requirement already satisfied: uvicorn>=0.18.3 in c:\\users\\omkar\\anaconda3\\envs\\llms\\lib\\site-packages (from uvicorn[standard]>=0.18.3->chromadb==0.5.0) (0.34.0)\n",
      "Requirement already satisfied: numpy>=1.22.5 in c:\\users\\omkar\\anaconda3\\envs\\llms\\lib\\site-packages (from chromadb==0.5.0) (1.26.4)\n",
      "Requirement already satisfied: posthog>=2.4.0 in c:\\users\\omkar\\anaconda3\\envs\\llms\\lib\\site-packages (from chromadb==0.5.0) (3.6.5)\n",
      "Requirement already satisfied: typing-extensions>=4.5.0 in c:\\users\\omkar\\anaconda3\\envs\\llms\\lib\\site-packages (from chromadb==0.5.0) (4.12.2)\n",
      "Requirement already satisfied: onnxruntime>=1.14.1 in c:\\users\\omkar\\anaconda3\\envs\\llms\\lib\\site-packages (from chromadb==0.5.0) (1.21.0)\n",
      "Requirement already satisfied: opentelemetry-api>=1.2.0 in c:\\users\\omkar\\anaconda3\\envs\\llms\\lib\\site-packages (from chromadb==0.5.0) (1.31.1)\n",
      "Requirement already satisfied: opentelemetry-exporter-otlp-proto-grpc>=1.2.0 in c:\\users\\omkar\\anaconda3\\envs\\llms\\lib\\site-packages (from chromadb==0.5.0) (1.31.1)\n",
      "Requirement already satisfied: opentelemetry-instrumentation-fastapi>=0.41b0 in c:\\users\\omkar\\anaconda3\\envs\\llms\\lib\\site-packages (from chromadb==0.5.0) (0.52b1)\n",
      "Requirement already satisfied: opentelemetry-sdk>=1.2.0 in c:\\users\\omkar\\anaconda3\\envs\\llms\\lib\\site-packages (from chromadb==0.5.0) (1.31.1)\n",
      "Requirement already satisfied: tokenizers>=0.13.2 in c:\\users\\omkar\\anaconda3\\envs\\llms\\lib\\site-packages (from chromadb==0.5.0) (0.21.1)\n",
      "Requirement already satisfied: pypika>=0.48.9 in c:\\users\\omkar\\anaconda3\\envs\\llms\\lib\\site-packages (from chromadb==0.5.0) (0.48.9)\n",
      "Requirement already satisfied: tqdm>=4.65.0 in c:\\users\\omkar\\anaconda3\\envs\\llms\\lib\\site-packages (from chromadb==0.5.0) (4.67.1)\n",
      "Requirement already satisfied: overrides>=7.3.1 in c:\\users\\omkar\\anaconda3\\envs\\llms\\lib\\site-packages (from chromadb==0.5.0) (7.7.0)\n",
      "Requirement already satisfied: importlib-resources in c:\\users\\omkar\\anaconda3\\envs\\llms\\lib\\site-packages (from chromadb==0.5.0) (6.5.2)\n",
      "Requirement already satisfied: grpcio>=1.58.0 in c:\\users\\omkar\\anaconda3\\envs\\llms\\lib\\site-packages (from chromadb==0.5.0) (1.71.0)\n",
      "Requirement already satisfied: bcrypt>=4.0.1 in c:\\users\\omkar\\anaconda3\\envs\\llms\\lib\\site-packages (from chromadb==0.5.0) (4.3.0)\n",
      "Requirement already satisfied: typer>=0.9.0 in c:\\users\\omkar\\anaconda3\\envs\\llms\\lib\\site-packages (from chromadb==0.5.0) (0.15.2)\n",
      "Requirement already satisfied: kubernetes>=28.1.0 in c:\\users\\omkar\\anaconda3\\envs\\llms\\lib\\site-packages (from chromadb==0.5.0) (32.0.1)\n",
      "Requirement already satisfied: tenacity>=8.2.3 in c:\\users\\omkar\\anaconda3\\envs\\llms\\lib\\site-packages (from chromadb==0.5.0) (9.0.0)\n",
      "Requirement already satisfied: PyYAML>=6.0.0 in c:\\users\\omkar\\anaconda3\\envs\\llms\\lib\\site-packages (from chromadb==0.5.0) (6.0.2)\n",
      "Requirement already satisfied: mmh3>=4.0.1 in c:\\users\\omkar\\anaconda3\\envs\\llms\\lib\\site-packages (from chromadb==0.5.0) (5.1.0)\n",
      "Requirement already satisfied: orjson>=3.9.12 in c:\\users\\omkar\\anaconda3\\envs\\llms\\lib\\site-packages (from chromadb==0.5.0) (3.10.16)\n",
      "Requirement already satisfied: packaging>=19.1 in c:\\users\\omkar\\anaconda3\\envs\\llms\\lib\\site-packages (from build>=1.0.3->chromadb==0.5.0) (24.2)\n",
      "Requirement already satisfied: pyproject_hooks in c:\\users\\omkar\\anaconda3\\envs\\llms\\lib\\site-packages (from build>=1.0.3->chromadb==0.5.0) (1.2.0)\n",
      "Requirement already satisfied: colorama in c:\\users\\omkar\\anaconda3\\envs\\llms\\lib\\site-packages (from build>=1.0.3->chromadb==0.5.0) (0.4.6)\n",
      "Requirement already satisfied: starlette<0.47.0,>=0.40.0 in c:\\users\\omkar\\anaconda3\\envs\\llms\\lib\\site-packages (from fastapi>=0.95.2->chromadb==0.5.0) (0.46.1)\n",
      "Requirement already satisfied: certifi>=14.05.14 in c:\\users\\omkar\\anaconda3\\envs\\llms\\lib\\site-packages (from kubernetes>=28.1.0->chromadb==0.5.0) (2025.1.31)\n",
      "Requirement already satisfied: six>=1.9.0 in c:\\users\\omkar\\anaconda3\\envs\\llms\\lib\\site-packages (from kubernetes>=28.1.0->chromadb==0.5.0) (1.17.0)\n",
      "Requirement already satisfied: python-dateutil>=2.5.3 in c:\\users\\omkar\\anaconda3\\envs\\llms\\lib\\site-packages (from kubernetes>=28.1.0->chromadb==0.5.0) (2.9.0.post0)\n",
      "Requirement already satisfied: google-auth>=1.0.1 in c:\\users\\omkar\\anaconda3\\envs\\llms\\lib\\site-packages (from kubernetes>=28.1.0->chromadb==0.5.0) (2.38.0)\n",
      "Requirement already satisfied: websocket-client!=0.40.0,!=0.41.*,!=0.42.*,>=0.32.0 in c:\\users\\omkar\\anaconda3\\envs\\llms\\lib\\site-packages (from kubernetes>=28.1.0->chromadb==0.5.0) (1.8.0)\n",
      "Requirement already satisfied: requests-oauthlib in c:\\users\\omkar\\anaconda3\\envs\\llms\\lib\\site-packages (from kubernetes>=28.1.0->chromadb==0.5.0) (2.0.0)\n",
      "Requirement already satisfied: oauthlib>=3.2.2 in c:\\users\\omkar\\anaconda3\\envs\\llms\\lib\\site-packages (from kubernetes>=28.1.0->chromadb==0.5.0) (3.2.2)\n",
      "Requirement already satisfied: urllib3>=1.24.2 in c:\\users\\omkar\\anaconda3\\envs\\llms\\lib\\site-packages (from kubernetes>=28.1.0->chromadb==0.5.0) (2.3.0)\n",
      "Requirement already satisfied: durationpy>=0.7 in c:\\users\\omkar\\anaconda3\\envs\\llms\\lib\\site-packages (from kubernetes>=28.1.0->chromadb==0.5.0) (0.9)\n",
      "Requirement already satisfied: coloredlogs in c:\\users\\omkar\\anaconda3\\envs\\llms\\lib\\site-packages (from onnxruntime>=1.14.1->chromadb==0.5.0) (15.0.1)\n",
      "Requirement already satisfied: flatbuffers in c:\\users\\omkar\\anaconda3\\envs\\llms\\lib\\site-packages (from onnxruntime>=1.14.1->chromadb==0.5.0) (25.2.10)\n",
      "Requirement already satisfied: protobuf in c:\\users\\omkar\\anaconda3\\envs\\llms\\lib\\site-packages (from onnxruntime>=1.14.1->chromadb==0.5.0) (5.29.3)\n",
      "Requirement already satisfied: sympy in c:\\users\\omkar\\anaconda3\\envs\\llms\\lib\\site-packages (from onnxruntime>=1.14.1->chromadb==0.5.0) (1.13.3)\n",
      "Requirement already satisfied: deprecated>=1.2.6 in c:\\users\\omkar\\anaconda3\\envs\\llms\\lib\\site-packages (from opentelemetry-api>=1.2.0->chromadb==0.5.0) (1.2.18)\n",
      "Requirement already satisfied: importlib-metadata<8.7.0,>=6.0 in c:\\users\\omkar\\anaconda3\\envs\\llms\\lib\\site-packages (from opentelemetry-api>=1.2.0->chromadb==0.5.0) (8.6.1)\n",
      "Requirement already satisfied: googleapis-common-protos~=1.52 in c:\\users\\omkar\\anaconda3\\envs\\llms\\lib\\site-packages (from opentelemetry-exporter-otlp-proto-grpc>=1.2.0->chromadb==0.5.0) (1.69.2)\n",
      "Requirement already satisfied: opentelemetry-exporter-otlp-proto-common==1.31.1 in c:\\users\\omkar\\anaconda3\\envs\\llms\\lib\\site-packages (from opentelemetry-exporter-otlp-proto-grpc>=1.2.0->chromadb==0.5.0) (1.31.1)\n",
      "Requirement already satisfied: opentelemetry-proto==1.31.1 in c:\\users\\omkar\\anaconda3\\envs\\llms\\lib\\site-packages (from opentelemetry-exporter-otlp-proto-grpc>=1.2.0->chromadb==0.5.0) (1.31.1)\n",
      "Requirement already satisfied: opentelemetry-instrumentation-asgi==0.52b1 in c:\\users\\omkar\\anaconda3\\envs\\llms\\lib\\site-packages (from opentelemetry-instrumentation-fastapi>=0.41b0->chromadb==0.5.0) (0.52b1)\n",
      "Requirement already satisfied: opentelemetry-instrumentation==0.52b1 in c:\\users\\omkar\\anaconda3\\envs\\llms\\lib\\site-packages (from opentelemetry-instrumentation-fastapi>=0.41b0->chromadb==0.5.0) (0.52b1)\n",
      "Requirement already satisfied: opentelemetry-semantic-conventions==0.52b1 in c:\\users\\omkar\\anaconda3\\envs\\llms\\lib\\site-packages (from opentelemetry-instrumentation-fastapi>=0.41b0->chromadb==0.5.0) (0.52b1)\n",
      "Requirement already satisfied: opentelemetry-util-http==0.52b1 in c:\\users\\omkar\\anaconda3\\envs\\llms\\lib\\site-packages (from opentelemetry-instrumentation-fastapi>=0.41b0->chromadb==0.5.0) (0.52b1)\n",
      "Requirement already satisfied: wrapt<2.0.0,>=1.0.0 in c:\\users\\omkar\\anaconda3\\envs\\llms\\lib\\site-packages (from opentelemetry-instrumentation==0.52b1->opentelemetry-instrumentation-fastapi>=0.41b0->chromadb==0.5.0) (1.17.2)\n",
      "Requirement already satisfied: asgiref~=3.0 in c:\\users\\omkar\\anaconda3\\envs\\llms\\lib\\site-packages (from opentelemetry-instrumentation-asgi==0.52b1->opentelemetry-instrumentation-fastapi>=0.41b0->chromadb==0.5.0) (3.8.1)\n",
      "Requirement already satisfied: monotonic>=1.5 in c:\\users\\omkar\\anaconda3\\envs\\llms\\lib\\site-packages (from posthog>=2.4.0->chromadb==0.5.0) (1.6)\n",
      "Requirement already satisfied: backoff>=1.10.0 in c:\\users\\omkar\\anaconda3\\envs\\llms\\lib\\site-packages (from posthog>=2.4.0->chromadb==0.5.0) (2.2.1)\n",
      "Requirement already satisfied: annotated-types>=0.6.0 in c:\\users\\omkar\\anaconda3\\envs\\llms\\lib\\site-packages (from pydantic>=1.9->chromadb==0.5.0) (0.7.0)\n",
      "Requirement already satisfied: pydantic-core==2.27.2 in c:\\users\\omkar\\anaconda3\\envs\\llms\\lib\\site-packages (from pydantic>=1.9->chromadb==0.5.0) (2.27.2)\n",
      "Requirement already satisfied: charset_normalizer<4,>=2 in c:\\users\\omkar\\anaconda3\\envs\\llms\\lib\\site-packages (from requests>=2.28->chromadb==0.5.0) (3.4.1)\n",
      "Requirement already satisfied: idna<4,>=2.5 in c:\\users\\omkar\\anaconda3\\envs\\llms\\lib\\site-packages (from requests>=2.28->chromadb==0.5.0) (3.10)\n",
      "Requirement already satisfied: huggingface-hub<1.0,>=0.16.4 in c:\\users\\omkar\\anaconda3\\envs\\llms\\lib\\site-packages (from tokenizers>=0.13.2->chromadb==0.5.0) (0.29.3)\n",
      "Requirement already satisfied: click>=8.0.0 in c:\\users\\omkar\\anaconda3\\envs\\llms\\lib\\site-packages (from typer>=0.9.0->chromadb==0.5.0) (8.1.8)\n",
      "Requirement already satisfied: shellingham>=1.3.0 in c:\\users\\omkar\\anaconda3\\envs\\llms\\lib\\site-packages (from typer>=0.9.0->chromadb==0.5.0) (1.5.4)\n",
      "Requirement already satisfied: rich>=10.11.0 in c:\\users\\omkar\\anaconda3\\envs\\llms\\lib\\site-packages (from typer>=0.9.0->chromadb==0.5.0) (13.9.4)\n",
      "Requirement already satisfied: h11>=0.8 in c:\\users\\omkar\\anaconda3\\envs\\llms\\lib\\site-packages (from uvicorn>=0.18.3->uvicorn[standard]>=0.18.3->chromadb==0.5.0) (0.14.0)\n",
      "Requirement already satisfied: httptools>=0.6.3 in c:\\users\\omkar\\anaconda3\\envs\\llms\\lib\\site-packages (from uvicorn[standard]>=0.18.3->chromadb==0.5.0) (0.6.4)\n",
      "Requirement already satisfied: python-dotenv>=0.13 in c:\\users\\omkar\\anaconda3\\envs\\llms\\lib\\site-packages (from uvicorn[standard]>=0.18.3->chromadb==0.5.0) (1.1.0)\n",
      "Requirement already satisfied: watchfiles>=0.13 in c:\\users\\omkar\\anaconda3\\envs\\llms\\lib\\site-packages (from uvicorn[standard]>=0.18.3->chromadb==0.5.0) (1.0.4)\n",
      "Requirement already satisfied: websockets>=10.4 in c:\\users\\omkar\\anaconda3\\envs\\llms\\lib\\site-packages (from uvicorn[standard]>=0.18.3->chromadb==0.5.0) (15.0.1)\n",
      "Requirement already satisfied: cachetools<6.0,>=2.0.0 in c:\\users\\omkar\\anaconda3\\envs\\llms\\lib\\site-packages (from google-auth>=1.0.1->kubernetes>=28.1.0->chromadb==0.5.0) (5.5.2)\n",
      "Requirement already satisfied: pyasn1-modules>=0.2.1 in c:\\users\\omkar\\anaconda3\\envs\\llms\\lib\\site-packages (from google-auth>=1.0.1->kubernetes>=28.1.0->chromadb==0.5.0) (0.4.2)\n",
      "Requirement already satisfied: rsa<5,>=3.1.4 in c:\\users\\omkar\\anaconda3\\envs\\llms\\lib\\site-packages (from google-auth>=1.0.1->kubernetes>=28.1.0->chromadb==0.5.0) (4.9)\n",
      "Requirement already satisfied: filelock in c:\\users\\omkar\\anaconda3\\envs\\llms\\lib\\site-packages (from huggingface-hub<1.0,>=0.16.4->tokenizers>=0.13.2->chromadb==0.5.0) (3.18.0)\n",
      "Requirement already satisfied: fsspec>=2023.5.0 in c:\\users\\omkar\\anaconda3\\envs\\llms\\lib\\site-packages (from huggingface-hub<1.0,>=0.16.4->tokenizers>=0.13.2->chromadb==0.5.0) (2024.12.0)\n",
      "Requirement already satisfied: zipp>=3.20 in c:\\users\\omkar\\anaconda3\\envs\\llms\\lib\\site-packages (from importlib-metadata<8.7.0,>=6.0->opentelemetry-api>=1.2.0->chromadb==0.5.0) (3.21.0)\n",
      "Requirement already satisfied: markdown-it-py>=2.2.0 in c:\\users\\omkar\\anaconda3\\envs\\llms\\lib\\site-packages (from rich>=10.11.0->typer>=0.9.0->chromadb==0.5.0) (3.0.0)\n",
      "Requirement already satisfied: pygments<3.0.0,>=2.13.0 in c:\\users\\omkar\\anaconda3\\envs\\llms\\lib\\site-packages (from rich>=10.11.0->typer>=0.9.0->chromadb==0.5.0) (2.19.1)\n",
      "Requirement already satisfied: anyio<5,>=3.6.2 in c:\\users\\omkar\\anaconda3\\envs\\llms\\lib\\site-packages (from starlette<0.47.0,>=0.40.0->fastapi>=0.95.2->chromadb==0.5.0) (4.9.0)\n",
      "Requirement already satisfied: humanfriendly>=9.1 in c:\\users\\omkar\\anaconda3\\envs\\llms\\lib\\site-packages (from coloredlogs->onnxruntime>=1.14.1->chromadb==0.5.0) (10.0)\n",
      "Requirement already satisfied: mpmath<1.4,>=1.1.0 in c:\\users\\omkar\\anaconda3\\envs\\llms\\lib\\site-packages (from sympy->onnxruntime>=1.14.1->chromadb==0.5.0) (1.3.0)\n",
      "Requirement already satisfied: sniffio>=1.1 in c:\\users\\omkar\\anaconda3\\envs\\llms\\lib\\site-packages (from anyio<5,>=3.6.2->starlette<0.47.0,>=0.40.0->fastapi>=0.95.2->chromadb==0.5.0) (1.3.1)\n",
      "Requirement already satisfied: pyreadline3 in c:\\users\\omkar\\anaconda3\\envs\\llms\\lib\\site-packages (from humanfriendly>=9.1->coloredlogs->onnxruntime>=1.14.1->chromadb==0.5.0) (0.0.0)\n",
      "Requirement already satisfied: mdurl~=0.1 in c:\\users\\omkar\\anaconda3\\envs\\llms\\lib\\site-packages (from markdown-it-py>=2.2.0->rich>=10.11.0->typer>=0.9.0->chromadb==0.5.0) (0.1.2)\n",
      "Requirement already satisfied: pyasn1<0.7.0,>=0.6.1 in c:\\users\\omkar\\anaconda3\\envs\\llms\\lib\\site-packages (from pyasn1-modules>=0.2.1->google-auth>=1.0.1->kubernetes>=28.1.0->chromadb==0.5.0) (0.6.1)\n"
     ]
    }
   ],
   "source": [
    "!pip install chromadb==0.5.0"
   ]
  },
  {
   "cell_type": "code",
   "execution_count": 2,
   "id": "993a2a24-1a58-42be-8034-6d116fb8d786",
   "metadata": {},
   "outputs": [],
   "source": [
    "# imports\n",
    "\n",
    "import os\n",
    "import re\n",
    "import math\n",
    "import json\n",
    "from tqdm import tqdm\n",
    "import random\n",
    "from dotenv import load_dotenv\n",
    "from huggingface_hub import login\n",
    "import numpy as np\n",
    "import pickle\n",
    "from sentence_transformers import SentenceTransformer\n",
    "from datasets import load_dataset\n",
    "import chromadb\n",
    "from items import Item\n",
    "from sklearn.manifold import TSNE\n",
    "import plotly.graph_objects as go"
   ]
  },
  {
   "cell_type": "code",
   "execution_count": 3,
   "id": "2359ccc0-dbf2-4b1e-9473-e472b32f548b",
   "metadata": {},
   "outputs": [],
   "source": [
    "# environment\n",
    "\n",
    "load_dotenv(override=True)\n",
    "os.environ['OPENAI_API_KEY'] = os.getenv('OPENAI_API_KEY', 'your-key-if-not-using-env')\n",
    "os.environ['HF_TOKEN'] = os.getenv('HF_TOKEN', 'your-key-if-not-using-env')\n",
    "DB = \"products_vectorstore\""
   ]
  },
  {
   "cell_type": "code",
   "execution_count": 4,
   "id": "645167e6-cf0d-42d2-949f-1089a25a2841",
   "metadata": {},
   "outputs": [
    {
     "name": "stderr",
     "output_type": "stream",
     "text": [
      "Note: Environment variable`HF_TOKEN` is set and is the current active token independently from the token you've just configured.\n"
     ]
    }
   ],
   "source": [
    "# Log in to HuggingFace\n",
    "\n",
    "hf_token = os.environ['HF_TOKEN']\n",
    "login(hf_token, add_to_git_credential=True)"
   ]
  },
  {
   "cell_type": "markdown",
   "id": "3d4995a4-f67f-4871-87df-8c6439b06366",
   "metadata": {},
   "source": [
    "## Back to the pkl files\n",
    "\n",
    "Much as we enjoyed data curating in week 6, we probably don't want to go through that whole process again!\n",
    "\n",
    "Let's reuse the pkl files we created then. Either copy the files `train.pkl` and `test.pkl` from the Week 6 folder into this Week 8 folder, or you can also download them from here:\n",
    "\n",
    "https://drive.google.com/drive/folders/1f_IZGybvs9o0J5sb3xmtTEQB3BXllzrW?usp=drive_link"
   ]
  },
  {
   "cell_type": "code",
   "execution_count": 5,
   "id": "688bd995-ec3e-43cd-8179-7fe14b275877",
   "metadata": {},
   "outputs": [],
   "source": [
    "# With train.pkl in this folder, you can run this:\n",
    "\n",
    "with open('train.pkl', 'rb') as file:\n",
    "    train = pickle.load(file)"
   ]
  },
  {
   "cell_type": "code",
   "execution_count": 6,
   "id": "2817eaf5-4302-4a18-9148-d1062e3b3dbb",
   "metadata": {},
   "outputs": [
    {
     "name": "stdout",
     "output_type": "stream",
     "text": [
      "How much does this cost to the nearest dollar?\n",
      "\n",
      "Delphi FG0166 Fuel Pump Module\n",
      "Delphi brings 80 years of OE Heritage into each Delphi pump, ensuring quality and fitment for each Delphi part. Part is validated, tested and matched to the right vehicle application Delphi brings 80 years of OE Heritage into each Delphi assembly, ensuring quality and fitment for each Delphi part Always be sure to check and clean fuel tank to avoid unnecessary returns Rigorous OE-testing ensures the pump can withstand extreme temperatures Brand Delphi, Fit Type Vehicle Specific Fit, Dimensions LxWxH 19.7 x 7.7 x 5.1 inches, Weight 2.2 Pounds, Auto Part Position Unknown, Operation Mode Mechanical, Manufacturer Delphi, Model FUEL PUMP, Dimensions 19.7\n",
      "\n",
      "Price is $227.00\n"
     ]
    }
   ],
   "source": [
    "print(train[0].prompt)"
   ]
  },
  {
   "cell_type": "markdown",
   "id": "9ae1ba16-7e80-4096-ac88-64ef8edcc80c",
   "metadata": {},
   "source": [
    "# Now create a Chroma Datastore\n",
    "\n",
    "In Week 5, we created a Chroma datastore with 123 documents representing chunks of objects from our fictional company Insurellm.\n",
    "\n",
    "Now we will create a Chroma datastore with 400,000 products from our training dataset! It's getting real!\n",
    "\n",
    "Note that we won't be using LangChain, but the API is very straightforward and consistent with before.\n",
    "\n",
    "Special note: if Chroma crashes and you're a Windows user, you should try rolling back to an earlier version of the Chroma library with:  \n",
    "`!pip install chromadb==0.5.0`  \n",
    "With many thanks to student Kelly Z. for finding this out and pointing to the GitHub issue [here](https://github.com/chroma-core/chroma/issues/2513). "
   ]
  },
  {
   "cell_type": "code",
   "execution_count": 7,
   "id": "f4aab95e-d719-4476-b6e7-e248120df25a",
   "metadata": {},
   "outputs": [],
   "source": [
    "client = chromadb.PersistentClient(path=DB)"
   ]
  },
  {
   "cell_type": "code",
   "execution_count": 8,
   "id": "5f95dafd-ab80-464e-ba8a-dec7a2424780",
   "metadata": {},
   "outputs": [
    {
     "name": "stdout",
     "output_type": "stream",
     "text": [
      "Deleted existing collection: products\n"
     ]
    }
   ],
   "source": [
    "# Check if the collection exists and delete it if it does\n",
    "collection_name = \"products\"\n",
    "existing_collection_names = [collection.name for collection in client.list_collections()]\n",
    "if collection_name in existing_collection_names:\n",
    "    client.delete_collection(collection_name)\n",
    "    print(f\"Deleted existing collection: {collection_name}\")\n",
    "\n",
    "collection = client.create_collection(collection_name)"
   ]
  },
  {
   "cell_type": "markdown",
   "id": "d392ed28-203d-4e73-be87-ac1390bdf722",
   "metadata": {},
   "source": [
    "# Introducing the SentenceTransfomer\n",
    "\n",
    "The all-MiniLM is a very useful model from HuggingFace that maps sentences & paragraphs to a 384 dimensional dense vector space and is ideal for tasks like semantic search.\n",
    "\n",
    "https://huggingface.co/sentence-transformers/all-MiniLM-L6-v2\n",
    "\n",
    "It can run pretty quickly locally.\n",
    "\n",
    "Last time we used OpenAI embeddings to produce vector embeddings. Benefits compared to OpenAI embeddings:\n",
    "1. It's free and fast!\n",
    "3. We can run it locally, so the data never leaves our box - might be useful if you're building a personal RAG\n"
   ]
  },
  {
   "cell_type": "code",
   "execution_count": 9,
   "id": "a87db200-d19d-44bf-acbd-15c45c70f5c9",
   "metadata": {},
   "outputs": [],
   "source": [
    "model = SentenceTransformer('sentence-transformers/all-MiniLM-L6-v2')"
   ]
  },
  {
   "cell_type": "code",
   "execution_count": 10,
   "id": "9b23a025-4c35-4d3a-96ad-b956cad37b0a",
   "metadata": {},
   "outputs": [],
   "source": [
    "# Pass in a list of texts, get back a numpy array of vectors\n",
    "\n",
    "vector = model.encode([\"Well hi there\"])[0]"
   ]
  },
  {
   "cell_type": "code",
   "execution_count": 11,
   "id": "8adde63f-e732-4f7c-bba9-f8b2a469f14e",
   "metadata": {},
   "outputs": [
    {
     "data": {
      "text/plain": [
       "array([-9.46715772e-02,  4.27619442e-02,  5.51620312e-02, -5.10993996e-04,\n",
       "        1.16203362e-02, -6.80130497e-02,  2.76405867e-02,  6.06974363e-02,\n",
       "        2.88530476e-02, -1.74128078e-02, -4.94346358e-02,  2.30993405e-02,\n",
       "       -1.28614195e-02, -4.31402661e-02,  2.17510220e-02,  4.26548906e-02,\n",
       "        5.10500148e-02, -7.79727176e-02, -1.23247236e-01,  3.67455892e-02,\n",
       "        4.54117591e-03,  9.47938114e-02, -5.53098843e-02,  1.70641225e-02,\n",
       "       -2.92873103e-02, -4.47124802e-02,  2.06784438e-02,  6.39320090e-02,\n",
       "        2.27427520e-02,  4.87789586e-02, -2.33502639e-03,  4.72859293e-02,\n",
       "       -2.86259074e-02,  2.30624527e-02,  2.45130528e-02,  3.95681784e-02,\n",
       "       -4.33176123e-02, -1.02316663e-01,  2.79877544e-03,  2.39304509e-02,\n",
       "        1.61556322e-02, -8.99080746e-03,  2.07255874e-02,  6.40123338e-02,\n",
       "        6.89179078e-02, -6.98361769e-02,  2.89761275e-03, -8.10989812e-02,\n",
       "        1.71122756e-02,  2.50652153e-03, -1.06529079e-01, -4.87733260e-02,\n",
       "       -1.67762339e-02, -2.28662230e-02,  1.14816584e-01,  4.87412922e-02,\n",
       "       -1.64962150e-02, -6.90832138e-02,  1.13612086e-01, -7.18485788e-02,\n",
       "       -9.01570991e-02,  3.91755702e-06, -8.66769329e-02, -4.05916311e-02,\n",
       "        3.71317603e-02, -1.77618880e-02, -5.57463728e-02, -4.57097143e-02,\n",
       "       -5.43141477e-02, -4.00612205e-02, -4.60227542e-02,  2.82193907e-02,\n",
       "       -2.33606286e-02,  1.44406306e-02, -1.52777461e-02, -4.34328616e-02,\n",
       "        6.81274533e-02,  8.21894482e-02,  7.83890020e-03, -2.85973120e-02,\n",
       "        6.14309274e-02, -4.92684878e-02,  3.27060698e-03, -2.72682998e-02,\n",
       "       -4.59346958e-02, -2.60167904e-02,  5.70649989e-02, -5.86440961e-04,\n",
       "       -4.37076837e-02, -2.47802265e-04, -8.73550102e-02,  3.48776504e-02,\n",
       "        1.39327738e-02, -1.60043836e-02,  2.86957882e-02, -9.48595628e-02,\n",
       "        9.40612778e-02,  5.92685901e-02, -8.65014493e-02,  1.45011440e-01,\n",
       "        2.35388428e-02,  3.43324952e-02,  2.51519319e-04,  7.15541542e-02,\n",
       "       -3.12182549e-02,  3.86665501e-02, -2.47745272e-02,  6.52674288e-02,\n",
       "       -8.28816891e-02, -2.80246995e-02,  9.34543367e-03, -7.85540976e-03,\n",
       "        5.30728176e-02,  2.96895374e-02,  3.27329859e-02,  4.94737029e-02,\n",
       "        2.52208821e-02,  4.67068292e-02,  5.03403842e-02, -7.23745152e-02,\n",
       "        2.54435483e-02, -3.67216617e-02,  1.27570527e-02,  1.46063454e-02,\n",
       "        2.11492646e-02, -5.56909293e-02, -9.18515306e-03, -5.63397728e-34,\n",
       "        9.58769545e-02,  5.94577752e-02,  5.11445291e-02,  3.36359888e-02,\n",
       "       -1.34414537e-02, -2.77203117e-02, -3.48436125e-02,  1.80352349e-02,\n",
       "       -2.53210645e-02,  6.73584361e-03,  5.47840931e-02, -3.60574275e-02,\n",
       "       -5.20870313e-02, -2.90345214e-02,  4.38963482e-03,  6.50023371e-02,\n",
       "        3.07485200e-02,  2.00220551e-02,  1.73041224e-03,  2.96726730e-03,\n",
       "        3.40951188e-03, -6.78145215e-02,  3.41304429e-02,  8.37870035e-03,\n",
       "        5.39904311e-02,  2.70389523e-02,  7.84120113e-02, -1.30136222e-01,\n",
       "        4.84650061e-02,  5.14179543e-02, -7.94677902e-03,  5.57887508e-03,\n",
       "       -5.31025715e-02,  3.81299183e-02, -3.05513348e-02, -7.69778788e-02,\n",
       "        1.20531153e-02, -4.08993363e-02, -8.69358927e-02,  6.38056099e-02,\n",
       "        1.68674700e-02,  1.68737804e-03,  6.28894493e-02, -1.67711712e-02,\n",
       "        2.15586405e-02,  7.10074324e-04,  2.81032105e-03, -8.89794249e-03,\n",
       "       -1.80887431e-02, -2.16217022e-02, -5.59150167e-02,  1.78774297e-02,\n",
       "       -9.27093774e-02,  7.27913994e-03, -1.27753600e-01, -4.86938059e-02,\n",
       "        1.45871965e-02, -1.62751433e-02,  6.75622150e-02,  3.87703031e-02,\n",
       "        7.23295137e-02,  9.14991498e-02, -9.65292305e-02,  4.84791137e-02,\n",
       "       -1.06274150e-01, -1.05042523e-02,  8.90350193e-02, -8.07525665e-02,\n",
       "        7.87081420e-02, -2.04917789e-02, -5.55080809e-02, -3.31532918e-02,\n",
       "       -2.14429814e-02,  4.94700149e-02, -7.05119520e-02,  6.63998649e-02,\n",
       "        7.39671811e-02, -2.70117307e-03,  1.62262786e-02, -3.98229025e-02,\n",
       "        5.94092421e-02, -7.14369211e-03, -3.33479680e-02,  2.30419505e-02,\n",
       "        1.87185649e-02, -6.15725107e-02, -8.55402322e-04, -1.05786644e-01,\n",
       "       -8.43619332e-02, -3.92993093e-02, -3.16447802e-02,  6.60644397e-02,\n",
       "        9.41815674e-02, -8.35982934e-02,  9.50880535e-03,  1.25503147e-34,\n",
       "        6.38197809e-02,  2.11370960e-02, -1.65900420e-02,  1.88641734e-02,\n",
       "       -5.57019189e-02,  1.82812463e-03, -1.37586882e-02,  8.16279277e-02,\n",
       "       -9.13296789e-02,  7.06856102e-02,  6.79991320e-02, -5.44535890e-02,\n",
       "        3.80394012e-02,  3.80507438e-03,  1.03689790e-01,  7.32787186e-04,\n",
       "        2.95661464e-02,  4.19423729e-02, -1.20444335e-01,  1.24932500e-02,\n",
       "       -5.53506427e-02,  1.75228585e-02, -2.28164811e-02, -5.79299480e-02,\n",
       "        9.42932628e-03, -5.42283058e-03, -3.94945685e-03,  2.82348525e-02,\n",
       "       -1.28066882e-01, -1.31304832e-02,  7.42957294e-02, -1.74529422e-02,\n",
       "       -9.72759351e-02,  8.25620908e-03,  2.06900798e-02, -5.29773440e-03,\n",
       "       -1.37695847e-02, -3.50974128e-02,  1.74978152e-02, -1.76232886e-02,\n",
       "       -6.50825649e-02, -3.84675823e-02, -8.76396522e-02,  3.21291834e-02,\n",
       "        2.55017169e-03, -2.09378898e-02,  5.55309877e-02,  2.57095601e-02,\n",
       "       -2.94735450e-02,  1.25047928e-02, -6.83466271e-02, -8.00624266e-02,\n",
       "       -1.46906646e-02,  1.03744501e-02, -8.51863176e-02, -1.10538937e-02,\n",
       "        2.14596614e-02,  4.08609100e-02,  3.31646837e-02, -2.76757330e-02,\n",
       "       -2.01877523e-02,  8.98881443e-03,  3.92048322e-02,  1.15103304e-01,\n",
       "        5.50441109e-02,  2.72755213e-02, -1.09526731e-01, -1.72623135e-02,\n",
       "        1.33438082e-02, -1.73702445e-02, -5.04367100e-03, -2.00292692e-02,\n",
       "        1.16672412e-01, -1.84322670e-02,  3.70627791e-02,  1.60885789e-02,\n",
       "        3.48830186e-02,  5.50574623e-02, -6.60796743e-03,  7.06828609e-02,\n",
       "        4.07849140e-02, -1.43314349e-02, -2.85442546e-03,  2.74251997e-02,\n",
       "       -4.26769108e-02,  1.26583707e-02,  3.34343351e-02,  1.62644889e-02,\n",
       "        1.19263362e-02, -2.92118993e-02,  2.73977946e-02,  3.44304852e-02,\n",
       "        2.52832547e-02,  3.07514481e-02,  3.22557352e-02, -1.74628543e-08,\n",
       "       -1.52691146e-02,  5.37681254e-03,  1.41246542e-01,  5.08366488e-02,\n",
       "        5.32256328e-02,  9.67938304e-02,  4.33674343e-02, -6.48315530e-03,\n",
       "        1.58603899e-02,  4.05631326e-02,  6.94984943e-02,  6.04905523e-02,\n",
       "       -6.26189262e-02, -3.96144316e-02,  1.10648908e-01,  1.67735312e-02,\n",
       "       -7.68693537e-03,  2.59615723e-02, -5.28792888e-02, -2.22319178e-02,\n",
       "        1.74595956e-02,  4.75340039e-02,  3.27674635e-02, -4.59684543e-02,\n",
       "        2.01770682e-02, -1.60875898e-02, -1.58613957e-02, -1.66658182e-02,\n",
       "       -3.05246767e-02, -3.87907289e-02, -1.27654253e-02,  6.57610595e-02,\n",
       "       -2.22503077e-02, -9.44992155e-03,  2.32080091e-02,  2.66038105e-02,\n",
       "        2.14203969e-02, -7.54580321e-03,  8.84752050e-02, -9.43513960e-02,\n",
       "       -5.74870557e-02, -7.77097642e-02,  1.95793970e-03, -1.50347417e-02,\n",
       "       -8.08494352e-03,  1.88217517e-02,  8.42518918e-03, -3.78592201e-02,\n",
       "        1.24534508e-02, -7.94995874e-02, -2.15790663e-02,  1.20276762e-02,\n",
       "        1.74870789e-02,  8.74479264e-02,  6.64091483e-02,  3.13736871e-02,\n",
       "       -1.00628622e-02,  2.07700673e-02, -5.20163178e-02, -8.91334470e-03,\n",
       "        1.48542345e-01, -2.51266104e-03,  9.93156210e-02,  2.34929677e-02],\n",
       "      dtype=float32)"
      ]
     },
     "execution_count": 11,
     "metadata": {},
     "output_type": "execute_result"
    }
   ],
   "source": [
    "vector"
   ]
  },
  {
   "cell_type": "code",
   "execution_count": 12,
   "id": "38de1bf8-c9b5-45b4-9f4b-86af93b3f80d",
   "metadata": {},
   "outputs": [],
   "source": [
    "def description(item):\n",
    "    text = item.prompt.replace(\"How much does this cost to the nearest dollar?\\n\\n\", \"\")\n",
    "    return text.split(\"\\n\\nPrice is $\")[0]"
   ]
  },
  {
   "cell_type": "code",
   "execution_count": 14,
   "id": "6774c635-0559-42de-83df-56bb316538c0",
   "metadata": {},
   "outputs": [
    {
     "data": {
      "text/plain": [
       "'How much does this cost to the nearest dollar?\\n\\nDelphi FG0166 Fuel Pump Module\\nDelphi brings 80 years of OE Heritage into each Delphi pump, ensuring quality and fitment for each Delphi part. Part is validated, tested and matched to the right vehicle application Delphi brings 80 years of OE Heritage into each Delphi assembly, ensuring quality and fitment for each Delphi part Always be sure to check and clean fuel tank to avoid unnecessary returns Rigorous OE-testing ensures the pump can withstand extreme temperatures Brand Delphi, Fit Type Vehicle Specific Fit, Dimensions LxWxH 19.7 x 7.7 x 5.1 inches, Weight 2.2 Pounds, Auto Part Position Unknown, Operation Mode Mechanical, Manufacturer Delphi, Model FUEL PUMP, Dimensions 19.7\\n\\nPrice is $227.00'"
      ]
     },
     "execution_count": 14,
     "metadata": {},
     "output_type": "execute_result"
    }
   ],
   "source": [
    "train[0].prompt"
   ]
  },
  {
   "cell_type": "code",
   "execution_count": 13,
   "id": "8c1205bd-4692-44ef-8ea4-69f255354537",
   "metadata": {},
   "outputs": [
    {
     "data": {
      "text/plain": [
       "'Delphi FG0166 Fuel Pump Module\\nDelphi brings 80 years of OE Heritage into each Delphi pump, ensuring quality and fitment for each Delphi part. Part is validated, tested and matched to the right vehicle application Delphi brings 80 years of OE Heritage into each Delphi assembly, ensuring quality and fitment for each Delphi part Always be sure to check and clean fuel tank to avoid unnecessary returns Rigorous OE-testing ensures the pump can withstand extreme temperatures Brand Delphi, Fit Type Vehicle Specific Fit, Dimensions LxWxH 19.7 x 7.7 x 5.1 inches, Weight 2.2 Pounds, Auto Part Position Unknown, Operation Mode Mechanical, Manufacturer Delphi, Model FUEL PUMP, Dimensions 19.7'"
      ]
     },
     "execution_count": 13,
     "metadata": {},
     "output_type": "execute_result"
    }
   ],
   "source": [
    "description(train[0])"
   ]
  },
  {
   "cell_type": "code",
   "execution_count": 15,
   "id": "8c79e2fe-1f50-4ebf-9a93-34f3088f2996",
   "metadata": {},
   "outputs": [
    {
     "name": "stderr",
     "output_type": "stream",
     "text": [
      "100%|██████████████████████████████████████████████████████████████████████████████| 400/400 [3:00:10<00:00, 27.03s/it]\n"
     ]
    }
   ],
   "source": [
    "for i in tqdm(range(0, len(train), 1000)):\n",
    "    documents = [description(item) for item in train[i: i+1000]]\n",
    "    vectors = model.encode(documents).astype(float).tolist()\n",
    "    metadatas = [{\"category\": item.category, \"price\": item.price} for item in train[i: i+1000]]\n",
    "    ids = [f\"doc_{j}\" for j in range(i, i+1000)]\n",
    "    collection.add(\n",
    "        ids=ids,\n",
    "        documents=documents,\n",
    "        embeddings=vectors,\n",
    "        metadatas=metadatas)"
   ]
  },
  {
   "cell_type": "code",
   "execution_count": null,
   "id": "47f4e12c-e310-44c1-8385-0f3ddbe36795",
   "metadata": {},
   "outputs": [],
   "source": []
  }
 ],
 "metadata": {
  "kernelspec": {
   "display_name": "Python 3 (ipykernel)",
   "language": "python",
   "name": "python3"
  },
  "language_info": {
   "codemirror_mode": {
    "name": "ipython",
    "version": 3
   },
   "file_extension": ".py",
   "mimetype": "text/x-python",
   "name": "python",
   "nbconvert_exporter": "python",
   "pygments_lexer": "ipython3",
   "version": "3.11.11"
  }
 },
 "nbformat": 4,
 "nbformat_minor": 5
}
