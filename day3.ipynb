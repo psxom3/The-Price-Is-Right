{
 "cells": [
  {
   "cell_type": "markdown",
   "id": "0df0d850-49eb-4a0b-a27a-146969db710d",
   "metadata": {},
   "source": [
    "# The Price is Right\n",
    "\n",
    "Today we'll build another piece of the puzzle: a ScanningAgent that looks for promising deals by subscribing to RSS feeds."
   ]
  },
  {
   "cell_type": "code",
   "execution_count": 1,
   "id": "d3763a79-8a5a-4300-8de4-93e85475af10",
   "metadata": {},
   "outputs": [],
   "source": [
    "# imports\n",
    "\n",
    "import os\n",
    "import json\n",
    "from dotenv import load_dotenv\n",
    "from openai import OpenAI\n",
    "from agents.deals import ScrapedDeal, DealSelection"
   ]
  },
  {
   "cell_type": "code",
   "execution_count": 2,
   "id": "c6469e32-16c3-4443-9475-ade710ef6933",
   "metadata": {},
   "outputs": [],
   "source": [
    "# Initialize and constants\n",
    "\n",
    "load_dotenv(override=True)\n",
    "os.environ['OPENAI_API_KEY'] = os.getenv('OPENAI_API_KEY', 'your-key-if-not-using-env')\n",
    "MODEL = 'gpt-4o-mini'\n",
    "openai = OpenAI()"
   ]
  },
  {
   "cell_type": "code",
   "execution_count": 3,
   "id": "afece9db-8cd4-46be-ac57-0b472e84da7d",
   "metadata": {},
   "outputs": [
    {
     "name": "stderr",
     "output_type": "stream",
     "text": [
      "100%|████████████████████████████████████████████████████████████████████████████████████| 5/5 [01:42<00:00, 20.47s/it]\n"
     ]
    }
   ],
   "source": [
    "deals = ScrapedDeal.fetch(show_progress=True)"
   ]
  },
  {
   "cell_type": "code",
   "execution_count": 4,
   "id": "8cd15c4d-eb44-4601-bf0c-f945c1d8e3ec",
   "metadata": {},
   "outputs": [
    {
     "data": {
      "text/plain": [
       "50"
      ]
     },
     "execution_count": 4,
     "metadata": {},
     "output_type": "execute_result"
    }
   ],
   "source": [
    "len(deals)"
   ]
  },
  {
   "cell_type": "code",
   "execution_count": 5,
   "id": "4259f30a-6455-49ed-8863-2f9ddd4776cb",
   "metadata": {},
   "outputs": [
    {
     "data": {
      "text/plain": [
       "'Title: Harbor Freight Tools Scratch and Dent Sale: Up to 45% off + free shipping\\nDetails: Save up to 40% off a range of tool storage chests and stainless steel worktops. We\\'ve pictured the Icon 73\" Professional Top Chest for $1,259 ($540 off) Stock is limited. Items ship for free, although you\\'re responsible for un-palletizing and setup. You need to call the number on the sale page to place an order for these items. Shop Now at Harbor Freight Tools\\nFeatures: \\nURL: https://www.dealnews.com/Harbor-Freight-Tools-Scratch-and-Dent-Sale-Up-to-45-off-free-shipping/21735179.html?iref=rss-c196'"
      ]
     },
     "execution_count": 5,
     "metadata": {},
     "output_type": "execute_result"
    }
   ],
   "source": [
    "deals[44].describe()"
   ]
  },
  {
   "cell_type": "code",
   "execution_count": 6,
   "id": "8100e5ac-38f5-40c1-a712-08ae12c85038",
   "metadata": {},
   "outputs": [],
   "source": [
    "system_prompt = \"\"\"You identify and summarize the 5 most detailed deals from a list, by selecting deals that have the most detailed, high quality description and the most clear price.\n",
    "Respond strictly in JSON with no explanation, using this format. You should provide the price as a number derived from the description. If the price of a deal isn't clear, do not include that deal in your response.\n",
    "Most important is that you respond with the 5 deals that have the most detailed product description with price. It's not important to mention the terms of the deal; most important is a thorough description of the product.\n",
    "Be careful with products that are described as \"$XXX off\" or \"reduced by $XXX\" - this isn't the actual price of the product. Only respond with products when you are highly confident about the price. \n",
    "\n",
    "{\"deals\": [\n",
    "    {\n",
    "        \"product_description\": \"Your clearly expressed summary of the product in 4-5 sentences. Details of the item are much more important than why it's a good deal. Avoid mentioning discounts and coupons; focus on the item itself. There should be a paragpraph of text for each item you choose.\",\n",
    "        \"price\": 99.99,\n",
    "        \"url\": \"the url as provided\"\n",
    "    },\n",
    "    ...\n",
    "]}\"\"\""
   ]
  },
  {
   "cell_type": "code",
   "execution_count": 7,
   "id": "f4bca170-af71-40c9-9597-1d72980c74d8",
   "metadata": {},
   "outputs": [],
   "source": [
    "user_prompt = \"\"\"Respond with the most promising 5 deals from this list, selecting those which have the most detailed, high quality product description and a clear price.\n",
    "Respond strictly in JSON, and only JSON. You should rephrase the description to be a summary of the product itself, not the terms of the deal.\n",
    "Remember to respond with a paragraph of text in the product_description field for each of the 5 items that you select.\n",
    "Be careful with products that are described as \"$XXX off\" or \"reduced by $XXX\" - this isn't the actual price of the product. Only respond with products when you are highly confident about the price. \n",
    "\n",
    "Deals:\n",
    "\n",
    "\"\"\"\n",
    "user_prompt += '\\n\\n'.join([deal.describe() for deal in deals])"
   ]
  },
  {
   "cell_type": "code",
   "execution_count": 8,
   "id": "020947a6-561b-417b-98a0-a085e31d2ce3",
   "metadata": {},
   "outputs": [
    {
     "name": "stdout",
     "output_type": "stream",
     "text": [
      "Respond with the most promising 5 deals from this list, selecting those which have the most detailed, high quality product description and a clear price.\n",
      "Respond strictly in JSON, and only JSON. You should rephrase the description to be a summary of the product itself, not the terms of the deal.\n",
      "Remember to respond with a paragraph of text in the product_description field for each of the 5 items that you select.\n",
      "Be careful with products that are described as \"$XXX off\" or \"reduced by $XXX\" - this isn't the actual price of the product. Only respond with products when you are highly confident about the price. \n",
      "\n",
      "Deals:\n",
      "\n",
      "Title: Adorama Warehouse Sale: Huge savings across all categories + free shipping w/ $50\n",
      "Details: For a limited time, score deep savings on in stock gear. You will save on photo, video, lighting, audio, computers, and much more. Orders of $50 or more ship for free. Shop Now at Adorama\n",
      "Features: \n",
      "URL: https://www.dealnews.com/Adorama-Warehouse-Sale-Huge-savings-across-all-categories-free-shipping-w-50/21735224.html?iref=rss-c142\n",
      "\n",
      "Title: Samsung Headphones, Smart Watches, and Wearables: Up to $325 off + free shipping\n",
      "Details: Save on smart watches, fitness trackers, smart rings, earbuds, and more, with both straight discounts and trade-in discounts. We've pictured the Samsung Galaxy Buds FE for $65 ($35 off and the lowest price we've seen). Shop Now at Samsung\n",
      "Features: \n",
      "URL: https://www.dealnews.com/Samsung-Headphones-Smart-Watches-and-Wearables-Up-to-325-off-free-shipping/21735168.html?iref=rss-c142\n",
      "\n",
      "Title: Energizer MAX AAA Batteries 16-Pack for $10 + free shipping w/ $35\n",
      "Details: It's half off and the best price we could find by $2. Shipping adds $6.99 or orders of $35 or more ships for free. Buy Now at Walmart\n",
      "Features: 12-year shelf life Model: E001081114\n",
      "URL: https://www.dealnews.com/products/Energizer/Energizer-MAX-AAA-Batteries-16-Pack/489422.html?iref=rss-c142\n",
      "\n",
      "Title: Samsung Featured Deals: Deals on phones, appliances, TVs and more + free shipp\n"
     ]
    }
   ],
   "source": [
    "print(user_prompt[:2000])"
   ]
  },
  {
   "cell_type": "code",
   "execution_count": 9,
   "id": "7de46f74-868c-4127-8a68-cf2da7d600bb",
   "metadata": {},
   "outputs": [],
   "source": [
    "def get_recommendations():\n",
    "    completion = openai.beta.chat.completions.parse(\n",
    "        model=\"gpt-4o-mini\",\n",
    "        messages=[\n",
    "            {\"role\": \"system\", \"content\": system_prompt},\n",
    "            {\"role\": \"user\", \"content\": user_prompt}\n",
    "      ],\n",
    "        response_format=DealSelection\n",
    "    )\n",
    "    result = completion.choices[0].message.parsed\n",
    "    return result"
   ]
  },
  {
   "cell_type": "code",
   "execution_count": 10,
   "id": "4c06270d-8c17-4d5a-9cfe-b6cefe788d5e",
   "metadata": {},
   "outputs": [],
   "source": [
    "result = get_recommendations()"
   ]
  },
  {
   "cell_type": "code",
   "execution_count": 11,
   "id": "84e62845-3338-441a-8161-c70097af4773",
   "metadata": {},
   "outputs": [
    {
     "data": {
      "text/plain": [
       "5"
      ]
     },
     "execution_count": 11,
     "metadata": {},
     "output_type": "execute_result"
    }
   ],
   "source": [
    "len(result.deals)"
   ]
  },
  {
   "cell_type": "code",
   "execution_count": 12,
   "id": "e5554a0a-ae40-4684-ad3e-faa3d22e030c",
   "metadata": {},
   "outputs": [
    {
     "data": {
      "text/plain": [
       "Deal(product_description='The Certified Refurbished iRobot Roomba j7+ is a smart self-emptying robot vacuum that provides a hassle-free cleaning experience. It features advanced smart mapping technology, allowing it to efficiently navigate your home and avoid obstacles. This model includes a self-cleaning cartridge filter, which helps in maintaining the suction power while significantly reducing the need for manual maintenance. Additionally, it comes with a 2-year Allstate warranty, ensuring peace of mind with your purchase.', price=180.0, url='https://www.dealnews.com/products/iRobot/iRobot-Roomba-j7-Self-Emptying-Robot-Vacuum/455442.html?iref=rss-f1912')"
      ]
     },
     "execution_count": 12,
     "metadata": {},
     "output_type": "execute_result"
    }
   ],
   "source": [
    "result.deals[1]"
   ]
  },
  {
   "cell_type": "code",
   "execution_count": 13,
   "id": "8bdc57fb-7497-47af-a643-6ba5a21cc17e",
   "metadata": {},
   "outputs": [],
   "source": [
    "from agents.scanner_agent import ScannerAgent"
   ]
  },
  {
   "cell_type": "code",
   "execution_count": 14,
   "id": "132278bc-217a-43a6-b6c4-724140c6a225",
   "metadata": {},
   "outputs": [],
   "source": [
    "agent = ScannerAgent()\n",
    "result = agent.scan()"
   ]
  },
  {
   "cell_type": "code",
   "execution_count": 16,
   "id": "2e1d013a-c930-4dad-901b-41433379e14b",
   "metadata": {},
   "outputs": [
    {
     "name": "stdout",
     "output_type": "stream",
     "text": [
      "deals=[Deal(product_description='Get a certified refurbished Unlocked Apple iPhone 15 with 128GB of storage for just $474.99. This phone is available at an exceptional price and is the lowest listed price for any condition. It comes complete with a 1-year Allstate warranty, ensuring peace of mind with your purchase.', price=474.99, url='https://www.dealnews.com/products/Apple/Unlocked-Apple-iPhone-15-128-GB-Smartphone/482155.html?iref=rss-c142'), Deal(product_description=\"This refurbished Unlocked Apple iPhone 15 Pro Max features a substantial 256GB of storage capacity. At $710, it's the best deal currently available as it has dropped significantly in price. This device also comes with a 1-year Allstate warranty, offering protection and support throughout your usage.\", price=710.0, url='https://www.dealnews.com/products/Apple/Unlocked-Apple-iPhone-15-Pro-Max-256-GB-Smartphone/482160.html?iref=rss-c142'), Deal(product_description='Experience high-end audio with the Samsung Galaxy Buds FE wireless earbuds, giving you incredible sound quality and convenience for $65. Designed for comfort and functionality, they provide features that enhance your music listening experience while also being the lowest price recorded for this model.', price=65.0, url='https://www.dealnews.com/Samsung-Headphones-Smart-Watches-and-Wearables-Up-to-325-off-free-shipping/21735168.html?iref=rss-c142'), Deal(product_description='The EcoFlow 2,400W Portable Power Station is essential for anyone needing ample power on the go. Priced at $2,699 and available with a solar panel, this powerful unit can provide an impressive output with expandable capacity. It’s perfect for outdoor activities or emergency backup power.', price=2699.0, url='https://www.dealnews.com/products/Eco-Flow/Eco-Flow-2-400-W-Portable-Power-Station-w-Solar-Panel/489416.html?iref=rss-c142'), Deal(product_description='This INIU MagPro 10,000mAh Qi2 Wireless Power Bank is priced at $45 and features magnetic wireless charging, a 3-year warranty, and PD wired charging options. Ideal for keeping your devices powered while on the move, this power bank combines high capacity and user-friendly functionality.', price=45.0, url='https://www.dealnews.com/products/INIU/INIU-Mag-Pro-10-000-m-Ah-Qi2-15-W-Magnetic-Wireless-Power-Bank/489419.html?iref=rss-c142')]\n"
     ]
    }
   ],
   "source": [
    "print(result)"
   ]
  },
  {
   "cell_type": "code",
   "execution_count": null,
   "id": "5ee2e837-1f1d-42d4-8bc4-51cccc343006",
   "metadata": {},
   "outputs": [],
   "source": []
  }
 ],
 "metadata": {
  "kernelspec": {
   "display_name": "Python 3 (ipykernel)",
   "language": "python",
   "name": "python3"
  },
  "language_info": {
   "codemirror_mode": {
    "name": "ipython",
    "version": 3
   },
   "file_extension": ".py",
   "mimetype": "text/x-python",
   "name": "python",
   "nbconvert_exporter": "python",
   "pygments_lexer": "ipython3",
   "version": "3.11.11"
  }
 },
 "nbformat": 4,
 "nbformat_minor": 5
}
